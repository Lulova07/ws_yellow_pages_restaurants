{
 "cells": [
  {
   "cell_type": "markdown",
   "id": "2727da43-dffe-483f-8bee-1e7adfb6b31d",
   "metadata": {},
   "source": [
    "# Data Scraping"
   ]
  },
  {
   "cell_type": "code",
   "execution_count": 2,
   "id": "73b0bfcc-d994-4872-97cb-f0d275f1f01a",
   "metadata": {
    "scrolled": true
   },
   "outputs": [
    {
     "name": "stdout",
     "output_type": "stream",
     "text": [
      "HTTP error occurred: 404 Client Error: Not Found for url: https://www.yellowpages.com/birmingham-al/restaurants?page=15\n",
      "https://www.yellowpages.com/birmingham-al/restaurants?page=79\n",
      "Tiempo total: 1.90766841173172 minutos - 1.144601047039032 segundos / ciudad\n"
     ]
    }
   ],
   "source": [
    "import concurrent.futures\n",
    "import requests\n",
    "from bs4 import BeautifulSoup\n",
    "import json\n",
    "import random\n",
    "import pandas as pd\n",
    "import time\n",
    "\n",
    "start_time = time.time()\n",
    "\n",
    "def SelectHeader():\n",
    "    user_agent_list = [\n",
    "        'Mozilla/5.0 (Windows NT 10.0; Win64; x64) AppleWebKit/537.36 (KHTML, like Gecko) Chrome/124.0.0.0 Safari/537.36',\n",
    "        'Mozilla/5.0 (X11; CrOS x86_64 14541.0.0.0) AppleWebKit/537.36 (KHTML, like Gecko) Chrome/122.0.0.0 Safari/537.36',\n",
    "        'Mozilla/5.0 (Macintosh; Intel Mac OS X 10_15_7) AppleWebKit/537.36 (KHTML, like Gecko) Chrome/122.0.0.0 Safari/537.36',\n",
    "        'Mozilla/5.0 (X11; Linux x86_64) AppleWebKit/537.36 (KHTML, like Gecko) Chrome/122.0.0.0 Safari/537.36',\n",
    "        'Mozilla/5.0 (X11; Linux x86_64) AppleWebKit/537.36 (KHTML, like Gecko) nBrowser/1.0.0.0 Chrome/121.0.0.0 Safari/537.36',\n",
    "        'Mozilla/5.0 (Windows NT 10.0; Win64; x64) AppleWebKit/537.36 (KHTML, like Gecko) Version/4.0 Chrome/121.0.6167.18 Safari/537.36'\n",
    "    ]\n",
    "    user_agent = random.choice(user_agent_list)\n",
    "    headers = {'User-Agent': user_agent}\n",
    "    return headers\n",
    "\n",
    "def ScrapeLinks(restaurants_url):\n",
    "    Links = []\n",
    "    with requests.Session() as session:\n",
    "        response = session.get(restaurants_url)\n",
    "        soup = BeautifulSoup(response.text, 'html.parser')\n",
    "        states = soup.find_all('div', class_='row group')\n",
    "        for state in states:\n",
    "            cities = state.find_all('a')\n",
    "            Links.extend([\"https://www.yellowpages.com\" + city.get('href') for city in cities])\n",
    "    return Links[:1]\n",
    "    \n",
    "def check_amenity(amenities, amenity_icon, data_key):\n",
    "    if amenity_icon in amenities:\n",
    "        return 'YES'\n",
    "    return 'NO'\n",
    "\n",
    "def ScrapeData(first_url):\n",
    "    Data = {\n",
    "        'ID': [],\n",
    "        'Name': [],\n",
    "        'City': [],\n",
    "        'State': [],\n",
    "        'Rating (YP)': [],\n",
    "        'Count (YP)': [],\n",
    "        'Rating (TA)': [],\n",
    "        'Count (TA)': [],\n",
    "        'Amenity_Family': [],\n",
    "        'Amenity_Alcohol': [],\n",
    "        'Amenity_Outdoor': [],\n",
    "        'Amenity_Wifi': [],\n",
    "        'Amenity_Group': [],\n",
    "        'Amenity_Reservation': [],\n",
    "        'Amenity_Wheelchair': [],\n",
    "        'Years': [],\n",
    "        'Address': [],\n",
    "        'Website': []\n",
    "    }\n",
    "    current_page_url = first_url\n",
    "\n",
    "    with requests.Session() as session:\n",
    "        while True:\n",
    "            try:\n",
    "                response = session.get(current_page_url, headers=SelectHeader())\n",
    "                response.raise_for_status()  # Check for HTTP errors\n",
    "            except requests.exceptions.HTTPError as err:\n",
    "                print(f\"HTTP error occurred: {err}\")\n",
    "                continue\n",
    "            except requests.exceptions.RequestException as req_err:\n",
    "                print(f\"Request error occurred: {req_err}\")\n",
    "                continue\n",
    "            except Exception as e:\n",
    "                print(f\"An unexpected error occurred: {e}\")\n",
    "                continue\n",
    "\n",
    "            soup = BeautifulSoup(response.text, 'html.parser')\n",
    "            restaurants = soup.find_all('div', class_='result')\n",
    "\n",
    "            for restaurant in restaurants:\n",
    "                try:\n",
    "                    Data['ID'].append(restaurant.get('id').split('-')[1])\n",
    "                except:\n",
    "                    Data['ID'].append('N/A')\n",
    "                try:\n",
    "                    Data['Name'].append(restaurant.find('a', class_='business-name').text)\n",
    "                except:\n",
    "                    Data['Name'].append('N/A')\n",
    "                try: \n",
    "                    if restaurant.find('p',class_='adr'):\n",
    "                        Data['City'].append(\" \".join(restaurant.find('p',class_='adr').text.split('the')[1].split()[:-1]))\n",
    "                    else:\n",
    "                        Data['City'].append(restaurant.find('div', class_='locality').text.split(',')[0])\n",
    "                except: \n",
    "                    Data['City'].append('N/A')\n",
    "                try: \n",
    "                    Data['State'].append(restaurant.find('div', class_='locality').text.split(',')[1].split()[0])\n",
    "                except: \n",
    "                    Data['State'].append('N/A')\n",
    "                try:\n",
    "                    Data['Rating (YP)'].append(\" \".join(restaurant.find('div',class_='result-rating').get('class')[1:]))       \n",
    "                except:\n",
    "                    Data['Rating (YP)'].append('N/A')\n",
    "                try: \n",
    "                    Data['Count (YP)'].append(restaurant.find('span',class_='count').text.replace('(','').replace(')',''))\n",
    "                except:\n",
    "                    Data['Count (YP)'].append('N/A')\n",
    "                try:\n",
    "                    Data['Rating (TA)'].append(json.loads(restaurant.find('div',class_='ratings').get('data-tripadvisor'))['rating'])\n",
    "                except: \n",
    "                    Data['Rating (TA)'].append('N/A')\n",
    "                try: \n",
    "                    Data['Count (TA)'].append(json.loads(restaurant.find('div',class_='ratings').get('data-tripadvisor'))['count'])\n",
    "                except: \n",
    "                    Data['Count (TA)'].append('N/A')\n",
    "                try: \n",
    "                    amenities_span = restaurant.find('span', 'amenities-icons')\n",
    "                    if amenities_span:\n",
    "                        amenities = amenities_span.find_all('use')\n",
    "                        Amenities = [amenity.get('xlink:href') for amenity in amenities]\n",
    "                    else:\n",
    "                        Amenities = ['N/A']\n",
    "                except:\n",
    "                    Amenities = ['N/A']\n",
    "                amenity_mapping = {\n",
    "                    '#icon-amenity-family': 'Amenity_Family',\n",
    "                    '#icon-amenity-alcohol': 'Amenity_Alcohol',\n",
    "                    '#icon-amenity-outdoor': 'Amenity_Outdoor',\n",
    "                    '#icon-amenity-wifi': 'Amenity_Wifi',\n",
    "                    '#icon-amenity-group': 'Amenity_Group',\n",
    "                    '#icon-amenity-reservation': 'Amenity_Reservation',\n",
    "                    '#icon-amenity-wheelchair': 'Amenity_Wheelchair'\n",
    "                }\n",
    "                for icon, key in amenity_mapping.items():\n",
    "                    Data[key].append(check_amenity(Amenities, icon, key))\n",
    "                try:\n",
    "                    Data['Years'].append(restaurant.find('strong').text.split()[0])\n",
    "                except:\n",
    "                    Data['Years'].append('N/A')\n",
    "                try:\n",
    "                    Data['Address'].append(restaurant.find('div', class_='street-address').text)\n",
    "                except:\n",
    "                    Data['Address'].append('N/A')\n",
    "                try:\n",
    "                    Data['Website'].append(restaurant.find('a', class_='track-visit-website').get('href'))\n",
    "                except:\n",
    "                    Data['Website'].append('N/A')\n",
    "            try:\n",
    "                current_page_url = \"https://www.yellowpages.com\" + soup.find('a', class_='next ajax-page').get('href')\n",
    "            except:\n",
    "                print(current_page_url)\n",
    "                break\n",
    "\n",
    "    return Data\n",
    "\n",
    "def process_link(link):\n",
    "    data = ScrapeData(link)\n",
    "    return pd.DataFrame(data)\n",
    "\n",
    "def main():\n",
    "    restaurants_url = 'https://www.yellowpages.com/categories/restaurants'\n",
    "    links = ScrapeLinks(restaurants_url)\n",
    "    \n",
    "    with concurrent.futures.ThreadPoolExecutor() as executor:\n",
    "        dfs = list(executor.map(process_link, links))\n",
    "\n",
    "    result_df = pd.concat(dfs, ignore_index=True)\n",
    "    result_df.to_csv('restaurant_data_0-1.csv', index=False)\n",
    "\n",
    "    total_time = time.time() - start_time\n",
    "    print(f'Tiempo total: {total_time / 60} minutos - {total_time / 100} segundos / ciudad')\n",
    "\n",
    "if __name__ == \"__main__\":\n",
    "    main()"
   ]
  },
  {
   "cell_type": "code",
   "execution_count": null,
   "id": "d02eb621-ce26-499e-8650-b508853b3fb8",
   "metadata": {},
   "outputs": [],
   "source": [
    "import pandas as pd\n",
    "import os\n",
    "\n",
    "carpeta = r'D:\\Programs\\Python\\Projects\\restaurants'\n",
    "\n",
    "dfs = []\n",
    "\n",
    "for archivo in os.listdir(carpeta):\n",
    "    if archivo.endswith('.csv'):\n",
    "        ruta_completa = os.path.join(carpeta, archivo)\n",
    "        \n",
    "        df = pd.read_csv(ruta_completa)\n",
    "        \n",
    "        dfs.append(df)\n",
    "\n",
    "df_final = pd.concat(dfs, ignore_index=True)\n",
    "\n",
    "df_final.to_csv('restaurant_final.csv', index=False)"
   ]
  },
  {
   "cell_type": "markdown",
   "id": "7ba8ff70-e10a-403b-9e90-e01a5bffcf5f",
   "metadata": {},
   "source": [
    "# Data Cleaning"
   ]
  },
  {
   "cell_type": "code",
   "execution_count": null,
   "id": "065bd303-7405-4778-8f05-0e00748b11ee",
   "metadata": {},
   "outputs": [],
   "source": [
    "import pandas as pd\n",
    "\n",
    "res_df = pd.read_csv(r'D:\\Programs\\Python\\Projects\\Data Scraping\\YellowPages_US_Restaurants\\restaurant_final.csv',\n",
    "                    na_values = \"NO\")"
   ]
  },
  {
   "cell_type": "code",
   "execution_count": null,
   "id": "5f23e1f5-dc24-4191-9e71-060ae5a7495c",
   "metadata": {},
   "outputs": [],
   "source": [
    "res_df"
   ]
  },
  {
   "cell_type": "markdown",
   "id": "21d6823f-4161-4f5d-8680-9bfb37cbda6a",
   "metadata": {},
   "source": [
    "### Remove Duplicates"
   ]
  },
  {
   "cell_type": "markdown",
   "id": "b8c0063e-176f-4743-b234-e4db588ea1de",
   "metadata": {},
   "source": [
    "All columns"
   ]
  },
  {
   "cell_type": "code",
   "execution_count": null,
   "id": "15d3c9b1-2a23-4cd8-8938-832e686015bd",
   "metadata": {},
   "outputs": [],
   "source": [
    "res_df = res_df.drop_duplicates()\n",
    "\n",
    "res_df.shape"
   ]
  },
  {
   "cell_type": "markdown",
   "id": "b50c278c-662c-4590-b8bf-a7352b2a6945",
   "metadata": {},
   "source": [
    "Name - City - Address"
   ]
  },
  {
   "cell_type": "code",
   "execution_count": null,
   "id": "4d7c8670-594d-4a11-ab7e-5bf610d4a70d",
   "metadata": {},
   "outputs": [],
   "source": [
    "res_df = res_df.drop_duplicates([\"Name\",\"City\",\"Address\"])\n",
    "\n",
    "res_df.shape"
   ]
  },
  {
   "cell_type": "markdown",
   "id": "4fa3132a-bfdb-4d4b-9eea-7bcd74a8dc2f",
   "metadata": {},
   "source": [
    "### Remove NaN values"
   ]
  },
  {
   "cell_type": "markdown",
   "id": "66161da7-d921-44e9-8c99-f38130f45aff",
   "metadata": {},
   "source": [
    "Name - ID - City - State"
   ]
  },
  {
   "cell_type": "code",
   "execution_count": null,
   "id": "15213ab5-8448-428a-bb81-573234f3b07e",
   "metadata": {
    "scrolled": true
   },
   "outputs": [],
   "source": [
    "res_df.dropna(subset=['Name','ID','City','State'], inplace = True)"
   ]
  },
  {
   "cell_type": "markdown",
   "id": "20ef986c-3a96-44f8-8a0c-a13fc4594227",
   "metadata": {},
   "source": [
    "### Convert Rating (YP) str to int"
   ]
  },
  {
   "cell_type": "code",
   "execution_count": null,
   "id": "18a5d9d6-2ae7-44f4-a755-181bb161cfaf",
   "metadata": {},
   "outputs": [],
   "source": [
    "old_values = ['zero','one','one half','two','two half','three','three half','four','four half','five']\n",
    "new_values = [0,1,1.5,2,2.5,3,3.5,4,4.5,5]\n",
    "\n",
    "res_df.replace(old_values,new_values,inplace=True)"
   ]
  },
  {
   "cell_type": "markdown",
   "id": "003ad67a-44ee-4c4c-975b-ad236b47065a",
   "metadata": {},
   "source": [
    "### States and Cities Cleaning"
   ]
  },
  {
   "cell_type": "code",
   "execution_count": null,
   "id": "cf428230-38ef-4ed2-8e95-aa210a6ca976",
   "metadata": {},
   "outputs": [],
   "source": [
    "# Count the number of states\n",
    "res_df['State'].unique().shape"
   ]
  },
  {
   "cell_type": "code",
   "execution_count": null,
   "id": "c19a8fd8-d326-4934-ab0a-6bda984bb33b",
   "metadata": {
    "scrolled": true
   },
   "outputs": [],
   "source": [
    "# See the number of restaurants per state\n",
    "\n",
    "res_df['State'].value_counts()"
   ]
  },
  {
   "cell_type": "code",
   "execution_count": null,
   "id": "d5249ee7-8bc6-43d3-b995-910be1f19607",
   "metadata": {},
   "outputs": [],
   "source": [
    "s_99201 = res_df[res_df['State'] == '99201']\n",
    "s_99201"
   ]
  },
  {
   "cell_type": "code",
   "execution_count": null,
   "id": "ee9ad86c-b09a-4b8a-b6b0-c2d0ef7ad87f",
   "metadata": {},
   "outputs": [],
   "source": [
    "res_df['State'].replace('99201','WA', inplace = True)"
   ]
  },
  {
   "cell_type": "code",
   "execution_count": null,
   "id": "5449a3af-1c3c-45a6-b9d0-49068a741dba",
   "metadata": {},
   "outputs": [],
   "source": [
    "s_99201 = res_df[res_df['State'] == '99201']\n",
    "s_99201"
   ]
  },
  {
   "cell_type": "code",
   "execution_count": null,
   "id": "1ce654a5-ca1c-4552-9d55-acee5e5c119c",
   "metadata": {
    "scrolled": true
   },
   "outputs": [],
   "source": [
    "s_33445 = res_df[res_df['State'] == '33445']\n",
    "s_33445"
   ]
  },
  {
   "cell_type": "code",
   "execution_count": null,
   "id": "b74e8012-6246-4d9d-9b92-674c4c637152",
   "metadata": {},
   "outputs": [],
   "source": [
    "res_df['State'].replace('33445','FL', inplace = True)"
   ]
  },
  {
   "cell_type": "code",
   "execution_count": null,
   "id": "d4678b9b-2115-498a-8dad-5bdb05b04ef4",
   "metadata": {},
   "outputs": [],
   "source": [
    "s_33445 = res_df[res_df['State'] == '33445']\n",
    "s_33445"
   ]
  },
  {
   "cell_type": "code",
   "execution_count": null,
   "id": "46151cae-07af-4fe8-bc88-f4faccfa2554",
   "metadata": {},
   "outputs": [],
   "source": [
    "s_Dc = res_df[res_df['State'] == 'Dc']\n",
    "s_Dc"
   ]
  },
  {
   "cell_type": "code",
   "execution_count": null,
   "id": "74940a34-7135-40be-98dd-de6213a26040",
   "metadata": {},
   "outputs": [],
   "source": [
    "res_df['State'].replace('Dc','DC', inplace = True)"
   ]
  },
  {
   "cell_type": "code",
   "execution_count": null,
   "id": "7d5ae23d-5318-4fae-837a-d1026764f3ba",
   "metadata": {},
   "outputs": [],
   "source": [
    "s_Dc = res_df[res_df['State'] == 'Dc']\n",
    "s_Dc"
   ]
  },
  {
   "cell_type": "code",
   "execution_count": null,
   "id": "69eddd47-a1bc-4fbf-860b-faaed44c7e5a",
   "metadata": {
    "scrolled": true
   },
   "outputs": [],
   "source": [
    "c_wa = res_df[res_df['City'] == 'Washington Dc']\n",
    "c_wa"
   ]
  },
  {
   "cell_type": "code",
   "execution_count": null,
   "id": "22b6ea10-8a48-477e-afb3-1f247abfea52",
   "metadata": {},
   "outputs": [],
   "source": [
    "res_df['City'].replace('Washington Dc','Washington', inplace = True)"
   ]
  },
  {
   "cell_type": "code",
   "execution_count": null,
   "id": "d0fa0410-46d7-445c-bb3a-8587452fe69f",
   "metadata": {},
   "outputs": [],
   "source": [
    "c_wa = res_df[res_df['City'] == 'Washington Dc']\n",
    "c_wa"
   ]
  },
  {
   "cell_type": "markdown",
   "id": "d3059364-c76c-4dce-891d-a3c1e7ab6cd5",
   "metadata": {},
   "source": [
    "# Data Analysis"
   ]
  },
  {
   "cell_type": "code",
   "execution_count": null,
   "id": "6b727f60-6c84-4f82-a7bd-280f7eb0d136",
   "metadata": {},
   "outputs": [],
   "source": [
    "res_df.describe()"
   ]
  },
  {
   "cell_type": "markdown",
   "id": "6cfb85b5-31a8-4185-bfbd-06487ae92dfe",
   "metadata": {},
   "source": [
    "Top 10 Restaurants"
   ]
  },
  {
   "cell_type": "code",
   "execution_count": null,
   "id": "d4aad1e0-6bed-45c6-a4f4-a1981c19af29",
   "metadata": {},
   "outputs": [],
   "source": [
    "top_res = pd.DataFrame(res_df['Name'].value_counts())\n",
    "top_res.head(10)"
   ]
  },
  {
   "cell_type": "markdown",
   "id": "81a1c962-0ccb-4116-bfcc-bb809f41277a",
   "metadata": {},
   "source": [
    "Top 10 States"
   ]
  },
  {
   "cell_type": "code",
   "execution_count": null,
   "id": "809a12b2-7068-405a-aa81-6541ece119c5",
   "metadata": {},
   "outputs": [],
   "source": [
    "top_states = pd.DataFrame(res_df['State'].value_counts())\n",
    "top_states.head(10)"
   ]
  },
  {
   "cell_type": "markdown",
   "id": "32671fd4-6ee8-465a-bfde-942b8a5b3a61",
   "metadata": {},
   "source": [
    "Top 10 Cities"
   ]
  },
  {
   "cell_type": "code",
   "execution_count": null,
   "id": "b18a0345-8b00-415f-a858-cb3f9ca0e89f",
   "metadata": {},
   "outputs": [],
   "source": [
    "top_cities = pd.DataFrame(res_df['City'].value_counts())\n",
    "top_cities.head(10)"
   ]
  },
  {
   "cell_type": "code",
   "execution_count": null,
   "id": "3301f9a3-068d-47e1-892f-93635f3fd5c9",
   "metadata": {},
   "outputs": [],
   "source": [
    "fam_per = pd.DataFrame({\"Count\":res_df['Amenity_Family'].value_counts(),\n",
    "                        \"%\":100*res_df['Amenity_Family'].value_counts()/res_df.shape[0]})\n",
    "\n",
    "fam_per.sort_values(\"Count\")"
   ]
  },
  {
   "cell_type": "code",
   "execution_count": null,
   "id": "7958ae2e-6eca-4dec-a069-c097ce669214",
   "metadata": {},
   "outputs": [],
   "source": [
    "alc_per = pd.DataFrame({\"Count\":res_df['Amenity_Alcohol'].value_counts(),\n",
    "                        \"%\":100*res_df['Amenity_Alcohol'].value_counts()/res_df.shape[0]})\n",
    "\n",
    "alc_per.sort_values(\"Count\")"
   ]
  },
  {
   "cell_type": "code",
   "execution_count": null,
   "id": "bb464009-eddb-47b1-b2fd-a76215e58975",
   "metadata": {},
   "outputs": [],
   "source": [
    "out_per = pd.DataFrame({\"Count\":res_df['Amenity_Outdoor'].value_counts(),\n",
    "                        \"%\":100*res_df['Amenity_Outdoor'].value_counts()/res_df.shape[0]})\n",
    "\n",
    "out_per.sort_values(\"Count\")"
   ]
  },
  {
   "cell_type": "code",
   "execution_count": null,
   "id": "6c28aadc-d479-42e7-81bf-5491ff60b215",
   "metadata": {},
   "outputs": [],
   "source": [
    "wifi_per = pd.DataFrame({\"Count\":res_df['Amenity_Wifi'].value_counts(),\n",
    "                        \"%\":100*res_df['Amenity_Wifi'].value_counts()/res_df.shape[0]})\n",
    "\n",
    "wifi_per.sort_values(\"Count\")"
   ]
  },
  {
   "cell_type": "code",
   "execution_count": null,
   "id": "38922c85-e81d-4375-af3b-f2629085104f",
   "metadata": {},
   "outputs": [],
   "source": [
    "grp_per = pd.DataFrame({\"Count\":res_df['Amenity_Group'].value_counts(),\n",
    "                        \"%\":100*res_df['Amenity_Group'].value_counts()/res_df.shape[0]})\n",
    "\n",
    "grp_per.sort_values(\"Count\")"
   ]
  },
  {
   "cell_type": "code",
   "execution_count": null,
   "id": "1ea52a4f-7566-4379-98f2-79c56f47240d",
   "metadata": {},
   "outputs": [],
   "source": [
    "res_per = pd.DataFrame({\"Count\":res_df['Amenity_Reservation'].value_counts(),\n",
    "                        \"%\":100*res_df['Amenity_Reservation'].value_counts()/res_df.shape[0]})\n",
    "\n",
    "res_per.sort_values(\"Count\")"
   ]
  },
  {
   "cell_type": "code",
   "execution_count": null,
   "id": "d138d63c-a5f2-438d-ac08-b6ab5d9c0a58",
   "metadata": {},
   "outputs": [],
   "source": [
    "whe_per = pd.DataFrame({\"Count\":res_df['Amenity_Wheelchair'].value_counts(),\n",
    "                        \"%\":100*res_df['Amenity_Wheelchair'].value_counts()/res_df.shape[0]})\n",
    "\n",
    "whe_per.sort_values(\"Count\")"
   ]
  },
  {
   "cell_type": "code",
   "execution_count": null,
   "id": "fec40eb9-7b12-4cc0-a94b-98c757aa0d1c",
   "metadata": {},
   "outputs": [],
   "source": [
    "res_df.keys()"
   ]
  },
  {
   "cell_type": "markdown",
   "id": "f3675751-5276-47c2-b4d5-d59f86211965",
   "metadata": {},
   "source": [
    "¿Cuál es el promedio de calificación (Rating) en Yelp (YP) y TripAdvisor (TA)?"
   ]
  },
  {
   "cell_type": "code",
   "execution_count": null,
   "id": "2bfbaaea-81ad-49bb-b602-948fbd96b440",
   "metadata": {},
   "outputs": [],
   "source": [
    "res_df['Rating (YP)'].describe()"
   ]
  },
  {
   "cell_type": "code",
   "execution_count": null,
   "id": "ac71faa7-8d7f-46b8-bee7-629373702888",
   "metadata": {},
   "outputs": [],
   "source": [
    "res_df['Rating (TA)'].describe()"
   ]
  },
  {
   "cell_type": "markdown",
   "id": "f2048e0c-065a-4545-a545-049de758452f",
   "metadata": {},
   "source": [
    "¿Cuál es la cantidad promedio de reseñas (Count) en Yelp y TripAdvisor?"
   ]
  },
  {
   "cell_type": "code",
   "execution_count": null,
   "id": "1e0743c0-c780-455d-981d-1b64f8857f3f",
   "metadata": {},
   "outputs": [],
   "source": [
    "res_df['Count (YP)'].describe()"
   ]
  },
  {
   "cell_type": "code",
   "execution_count": null,
   "id": "ddfd9599-14cf-40b6-88ee-ac5a62fcd521",
   "metadata": {},
   "outputs": [],
   "source": [
    "res_df['Count (YP)'].median()"
   ]
  },
  {
   "cell_type": "code",
   "execution_count": null,
   "id": "28aec368-adc5-48cd-813c-0187fc78a188",
   "metadata": {},
   "outputs": [],
   "source": [
    "res_df['Count (TA)'].describe()"
   ]
  },
  {
   "cell_type": "code",
   "execution_count": null,
   "id": "14c9d89c-42ea-422f-9cf9-9eaacae5f1cd",
   "metadata": {},
   "outputs": [],
   "source": [
    "res_df['Count (TA)'].median()"
   ]
  },
  {
   "cell_type": "markdown",
   "id": "86574791-f523-4441-ad56-34e44e65e302",
   "metadata": {},
   "source": [
    "¿Cuántos restaurantes hay en cada estado?"
   ]
  },
  {
   "cell_type": "code",
   "execution_count": null,
   "id": "ad814318-86df-40ba-b400-de825c42786d",
   "metadata": {},
   "outputs": [],
   "source": [
    "pd.DataFrame(res_df['State'].value_counts())"
   ]
  },
  {
   "cell_type": "markdown",
   "id": "1ed4489d-4e0d-4bec-acc4-106b4160c7e9",
   "metadata": {},
   "source": [
    "¿En qué estado se encuentran los restaurantes mejor calificados?"
   ]
  },
  {
   "cell_type": "code",
   "execution_count": null,
   "id": "b8df7588-dd95-47d3-89b4-aace7768e2b4",
   "metadata": {},
   "outputs": [],
   "source": [
    "state = res_df.groupby('State')['Rating (YP)'].mean()\n",
    "\n",
    "top_yp_rating = pd.DataFrame({'State':state.index,\n",
    "                             'Rating (YP) Mean':state.values})\n",
    "\n",
    "top_yp_rating.sort_values(['Rating (YP) Mean'], ascending=False).head(10)"
   ]
  },
  {
   "cell_type": "code",
   "execution_count": null,
   "id": "6718c8a0-5e89-41ed-9c18-be3ad16a48f9",
   "metadata": {},
   "outputs": [],
   "source": [
    "state = res_df.groupby('State')['Rating (TA)'].mean()\n",
    "\n",
    "top_yp_rating = pd.DataFrame({'State':state.index,\n",
    "                             'Rating (TA) Mean':state.values})\n",
    "\n",
    "top_yp_rating.sort_values(['Rating (TA) Mean'], ascending=False).head(10)"
   ]
  }
 ],
 "metadata": {
  "kernelspec": {
   "display_name": "Python 3 (ipykernel)",
   "language": "python",
   "name": "python3"
  },
  "language_info": {
   "codemirror_mode": {
    "name": "ipython",
    "version": 3
   },
   "file_extension": ".py",
   "mimetype": "text/x-python",
   "name": "python",
   "nbconvert_exporter": "python",
   "pygments_lexer": "ipython3",
   "version": "3.12.1"
  }
 },
 "nbformat": 4,
 "nbformat_minor": 5
}
